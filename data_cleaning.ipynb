{
 "cells": [
  {
   "cell_type": "code",
   "execution_count": 96,
   "metadata": {},
   "outputs": [],
   "source": [
    "import pandas as pd"
   ]
  },
  {
   "cell_type": "code",
   "execution_count": 97,
   "metadata": {},
   "outputs": [],
   "source": [
    "df2019 = pd.read_csv('dataset/2019-plu-total-hab-data.csv')\n",
    "df2020 = pd.read_csv('dataset/2020-plu-total-hab-data.csv')\n",
    "df2021 = pd.read_csv('dataset/2021-plu-total-hab-data.csv')\n",
    "df2022 = pd.read_csv('dataset/2022-plu-total-hab-data.csv')\n",
    "dataframes = [df2019, df2020, df2021, df2022]"
   ]
  },
  {
   "cell_type": "code",
   "execution_count": 98,
   "metadata": {},
   "outputs": [
    {
     "name": "stdout",
     "output_type": "stream",
     "text": [
      "True\n"
     ]
    }
   ],
   "source": [
    "# check if all df's have same columns and all columns are the same dataType\n",
    "if all([all(dataframes[0].columns.sort_values() == df.columns.sort_values()) for df in dataframes]):\n",
    "    print(all([all(dataframes[0].dtypes.sort_values() == df.dtypes.sort_values()) for df in dataframes]))"
   ]
  },
  {
   "cell_type": "code",
   "execution_count": 99,
   "metadata": {},
   "outputs": [
    {
     "data": {
      "text/plain": [
       "Index(['Geography', 'Timeframe', 'Current Year Week Ending', 'Type',\n",
       "       'ASP Current Year', 'Total Bulk and Bags Units', '4046 Units',\n",
       "       '4225 Units', '4770 Units', 'TotalBagged Units', 'SmlBagged Units',\n",
       "       'LrgBagged Units', 'X-LrgBagged Units', 'Bulk GTIN'],\n",
       "      dtype='object')"
      ]
     },
     "metadata": {},
     "output_type": "display_data"
    },
    {
     "data": {
      "text/plain": [
       "0    2019-01-07 00:00:00\n",
       "1    2019-01-13 00:00:00\n",
       "2    2019-01-20 00:00:00\n",
       "3    2019-01-27 00:00:00\n",
       "4    2019-02-03 00:00:00\n",
       "Name: Current Year Week Ending, dtype: object"
      ]
     },
     "metadata": {},
     "output_type": "display_data"
    }
   ],
   "source": [
    "# check if anything to take note of before merging df's\n",
    "display(df2019.columns)\n",
    "display(df2019['Current Year Week Ending'].head()) # check if year is included before merging"
   ]
  },
  {
   "attachments": {},
   "cell_type": "markdown",
   "metadata": {},
   "source": [
    "All the datframes have the same columns and all columns have the same datatype so no changes are required there before we merge the columns."
   ]
  },
  {
   "cell_type": "code",
   "execution_count": 100,
   "metadata": {},
   "outputs": [
    {
     "data": {
      "text/plain": [
       "Geography                       60\n",
       "Timeframe                        1\n",
       "Current Year Week Ending       205\n",
       "Type                             2\n",
       "ASP Current Year             24190\n",
       "Total Bulk and Bags Units    24170\n",
       "4046 Units                   23004\n",
       "4225 Units                   22836\n",
       "4770 Units                   14068\n",
       "TotalBagged Units            24123\n",
       "SmlBagged Units                  1\n",
       "LrgBagged Units                  1\n",
       "X-LrgBagged Units                1\n",
       "Bulk GTIN                    23313\n",
       "dtype: int64"
      ]
     },
     "execution_count": 100,
     "metadata": {},
     "output_type": "execute_result"
    }
   ],
   "source": [
    "df = pd.concat(dataframes, ignore_index=True)\n",
    "df.nunique()"
   ]
  },
  {
   "cell_type": "code",
   "execution_count": 101,
   "metadata": {},
   "outputs": [
    {
     "data": {
      "text/plain": [
       "\"Timeframe: ['Weekly' nan]\""
      ]
     },
     "metadata": {},
     "output_type": "display_data"
    },
    {
     "data": {
      "text/plain": [
       "'SmlBagged Units: [ 0. nan]'"
      ]
     },
     "metadata": {},
     "output_type": "display_data"
    },
    {
     "data": {
      "text/plain": [
       "'LrgBagged Units: [ 0. nan]'"
      ]
     },
     "metadata": {},
     "output_type": "display_data"
    },
    {
     "data": {
      "text/plain": [
       "'X-LrgBagged Units: [ 0. nan]'"
      ]
     },
     "metadata": {},
     "output_type": "display_data"
    }
   ],
   "source": [
    "# record columns to delete (ones with only 1 unique value) as not useful for EDA\n",
    "to_del = df.columns[df.nunique() == 1]\n",
    "\n",
    "[display(f'{i}: {df[i].unique()}') for i in to_del]\n",
    "df.drop(to_del, axis=1, inplace=True);"
   ]
  },
  {
   "cell_type": "code",
   "execution_count": 102,
   "metadata": {},
   "outputs": [
    {
     "data": {
      "text/plain": [
       "ASP Current Year              0.074365\n",
       "Total Bulk and Bags Units    16.665804\n",
       "4046 Units                   19.190016\n",
       "4225 Units                   19.595895\n",
       "4770 Units                   23.452120\n",
       "TotalBagged Units            15.136727\n",
       "Bulk GTIN                    17.219243\n",
       "dtype: float64"
      ]
     },
     "execution_count": 102,
     "metadata": {},
     "output_type": "execute_result"
    }
   ],
   "source": [
    "df_num = df.select_dtypes(include='float64') # all numerical features are float64\n",
    "df_num = df_num / df_num.mean()\n",
    "df_num.var() # if variance of feature too low, might be better to remove."
   ]
  },
  {
   "cell_type": "code",
   "execution_count": 103,
   "metadata": {},
   "outputs": [
    {
     "data": {
      "text/html": [
       "<div>\n",
       "<style scoped>\n",
       "    .dataframe tbody tr th:only-of-type {\n",
       "        vertical-align: middle;\n",
       "    }\n",
       "\n",
       "    .dataframe tbody tr th {\n",
       "        vertical-align: top;\n",
       "    }\n",
       "\n",
       "    .dataframe thead th {\n",
       "        text-align: right;\n",
       "    }\n",
       "</style>\n",
       "<table border=\"1\" class=\"dataframe\">\n",
       "  <thead>\n",
       "    <tr style=\"text-align: right;\">\n",
       "      <th></th>\n",
       "      <th>Geography</th>\n",
       "      <th>Current Year Week Ending</th>\n",
       "      <th>Type</th>\n",
       "      <th>ASP Current Year</th>\n",
       "      <th>Total Bulk and Bags Units</th>\n",
       "      <th>4046 Units</th>\n",
       "      <th>4225 Units</th>\n",
       "      <th>4770 Units</th>\n",
       "      <th>TotalBagged Units</th>\n",
       "      <th>Bulk GTIN</th>\n",
       "    </tr>\n",
       "  </thead>\n",
       "  <tbody>\n",
       "    <tr>\n",
       "      <th>6136</th>\n",
       "      <td>Source: IRI confidential information. HAB's ca...</td>\n",
       "      <td>NaN</td>\n",
       "      <td>NaN</td>\n",
       "      <td>NaN</td>\n",
       "      <td>NaN</td>\n",
       "      <td>NaN</td>\n",
       "      <td>NaN</td>\n",
       "      <td>NaN</td>\n",
       "      <td>NaN</td>\n",
       "      <td>NaN</td>\n",
       "    </tr>\n",
       "    <tr>\n",
       "      <th>12273</th>\n",
       "      <td>Source: IRI confidential information. HAB's ca...</td>\n",
       "      <td>NaN</td>\n",
       "      <td>NaN</td>\n",
       "      <td>NaN</td>\n",
       "      <td>NaN</td>\n",
       "      <td>NaN</td>\n",
       "      <td>NaN</td>\n",
       "      <td>NaN</td>\n",
       "      <td>NaN</td>\n",
       "      <td>NaN</td>\n",
       "    </tr>\n",
       "    <tr>\n",
       "      <th>18410</th>\n",
       "      <td>Source: IRI confidential information. HAB's ca...</td>\n",
       "      <td>NaN</td>\n",
       "      <td>NaN</td>\n",
       "      <td>NaN</td>\n",
       "      <td>NaN</td>\n",
       "      <td>NaN</td>\n",
       "      <td>NaN</td>\n",
       "      <td>NaN</td>\n",
       "      <td>NaN</td>\n",
       "      <td>NaN</td>\n",
       "    </tr>\n",
       "    <tr>\n",
       "      <th>24193</th>\n",
       "      <td>Source: IRI confidential information. HAB's ca...</td>\n",
       "      <td>NaN</td>\n",
       "      <td>NaN</td>\n",
       "      <td>NaN</td>\n",
       "      <td>NaN</td>\n",
       "      <td>NaN</td>\n",
       "      <td>NaN</td>\n",
       "      <td>NaN</td>\n",
       "      <td>NaN</td>\n",
       "      <td>NaN</td>\n",
       "    </tr>\n",
       "  </tbody>\n",
       "</table>\n",
       "</div>"
      ],
      "text/plain": [
       "                                               Geography  \\\n",
       "6136   Source: IRI confidential information. HAB's ca...   \n",
       "12273  Source: IRI confidential information. HAB's ca...   \n",
       "18410  Source: IRI confidential information. HAB's ca...   \n",
       "24193  Source: IRI confidential information. HAB's ca...   \n",
       "\n",
       "      Current Year Week Ending Type  ASP Current Year  \\\n",
       "6136                       NaN  NaN               NaN   \n",
       "12273                      NaN  NaN               NaN   \n",
       "18410                      NaN  NaN               NaN   \n",
       "24193                      NaN  NaN               NaN   \n",
       "\n",
       "       Total Bulk and Bags Units  4046 Units  4225 Units  4770 Units  \\\n",
       "6136                         NaN         NaN         NaN         NaN   \n",
       "12273                        NaN         NaN         NaN         NaN   \n",
       "18410                        NaN         NaN         NaN         NaN   \n",
       "24193                        NaN         NaN         NaN         NaN   \n",
       "\n",
       "       TotalBagged Units  Bulk GTIN  \n",
       "6136                 NaN        NaN  \n",
       "12273                NaN        NaN  \n",
       "18410                NaN        NaN  \n",
       "24193                NaN        NaN  "
      ]
     },
     "metadata": {},
     "output_type": "display_data"
    }
   ],
   "source": [
    "# deal with Na entries\n",
    "display(df[df.isna().any(axis=1)])\n",
    "df.dropna(inplace=True)"
   ]
  },
  {
   "cell_type": "code",
   "execution_count": 104,
   "metadata": {},
   "outputs": [],
   "source": [
    "# converting the float values of Total Bulk and Bags Units, 4046 Units, 4225 Units, 4770 Units, Bulk GTIN and TotalBagged Units to integers by rounding them. \n",
    "round_features = ['Total Bulk and Bags Units', '4046 Units', '4225 Units', '4770 Units', 'TotalBagged Units', 'Bulk GTIN']\n",
    "for feature in round_features:\n",
    "    df[feature] = df[feature].apply(lambda x: round(x))"
   ]
  },
  {
   "cell_type": "code",
   "execution_count": 105,
   "metadata": {},
   "outputs": [],
   "source": [
    "# take out timing of current Year week ending (00:00:00)\n",
    "def TakeOutTiming(weekEnding: str):\n",
    "    return weekEnding[:-8]\n",
    "df['Current Year Week Ending'] = df['Current Year Week Ending'].apply(TakeOutTiming)"
   ]
  },
  {
   "cell_type": "code",
   "execution_count": 106,
   "metadata": {},
   "outputs": [],
   "source": [
    "df.to_csv('dataset/avocado_cleaned.csv')"
   ]
  }
 ],
 "metadata": {
  "kernelspec": {
   "display_name": "avocado",
   "language": "python",
   "name": "python3"
  },
  "language_info": {
   "codemirror_mode": {
    "name": "ipython",
    "version": 3
   },
   "file_extension": ".py",
   "mimetype": "text/x-python",
   "name": "python",
   "nbconvert_exporter": "python",
   "pygments_lexer": "ipython3",
   "version": "3.9.6 (default, Sep 26 2022, 11:37:49) \n[Clang 14.0.0 (clang-1400.0.29.202)]"
  },
  "orig_nbformat": 4,
  "vscode": {
   "interpreter": {
    "hash": "9382a65c3ac8d57f3b5430a997c830003cd2909b0e1b4ad3086db1f94006ba66"
   }
  }
 },
 "nbformat": 4,
 "nbformat_minor": 2
}
